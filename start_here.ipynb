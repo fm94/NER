{
 "cells": [
  {
   "cell_type": "code",
   "execution_count": 1,
   "metadata": {},
   "outputs": [],
   "source": [
    "from process_document import PwCSmartNERSystem, NERConfig"
   ]
  },
  {
   "cell_type": "code",
   "execution_count": 3,
   "metadata": {},
   "outputs": [],
   "source": [
    "# create a single instance of the NER system\n",
    "s = PwCSmartNERSystem(ner_model=\"de_core_news_sm\")\n",
    "\n",
    "# create a simple user config\n",
    "user_config = NERConfig(input_pdf_path=\"docs/example_doc.pdf\", output_pdf_path=\"docs/example_doc_highlighted.pdf\")\n",
    "\n",
    "# run the necessary steps\n",
    "s.process_single_document(user_config)"
   ]
  },
  {
   "cell_type": "code",
   "execution_count": null,
   "metadata": {},
   "outputs": [],
   "source": []
  }
 ],
 "metadata": {
  "kernelspec": {
   "display_name": "Python 3",
   "language": "python",
   "name": "python3"
  },
  "language_info": {
   "codemirror_mode": {
    "name": "ipython",
    "version": 3
   },
   "file_extension": ".py",
   "mimetype": "text/x-python",
   "name": "python",
   "nbconvert_exporter": "python",
   "pygments_lexer": "ipython3",
   "version": "3.10.12"
  }
 },
 "nbformat": 4,
 "nbformat_minor": 2
}
